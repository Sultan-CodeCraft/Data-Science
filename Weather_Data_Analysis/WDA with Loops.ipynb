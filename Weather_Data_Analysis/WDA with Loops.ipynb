{
 "cells": [
  {
   "cell_type": "markdown",
   "id": "a8372f8c-0e62-4303-bce1-a1f76f2b02d1",
   "metadata": {},
   "source": [
    "## Weather Data Analysis With Loop:"
   ]
  },
  {
   "cell_type": "code",
   "execution_count": 8,
   "id": "0e96711b-7195-4840-8140-408d27676769",
   "metadata": {},
   "outputs": [
    {
     "name": "stdout",
     "output_type": "stream",
     "text": [
      "<class 'dict'>\n"
     ]
    }
   ],
   "source": [
    "# Dictionaries....\n",
    "monday = {\"day\": \"Monday\", \"temperature\": 23.5, \"humidity\": 30, \"wind_speed\": 5.2}\n",
    "tuesday = {\"day\": \"Tuesday\", \"temperature\": 25.3, \"humidity\": 35, \"wind_speed\": 4.8}\n",
    "wednesday = {\"day\": \"Wednesday\", \"temperature\": 21.8, \"humidity\": 35, \"wind_speed\": 6.1}\n",
    "thursday = {\"day\": \"Thursday\", \"temperature\": 22.7, \"humidity\": 32, \"wind_speed\": 3.9}\n",
    "friday = {\"day\": \"Friday\", \"temperature\": 26.1, \"humidity\": 40, \"wind_speed\": 5.6}\n",
    "saturday = {\"day\": \"Saturday\", \"temperature\": 24.2, \"humidity\": 40, \"wind_speed\": 5.0}\n",
    "sunday = {\"day\": \"Sunday\", \"temperature\": 25.0, \"humidity\": 30, \"wind_speed\": 4.3}\n",
    "\n",
    "print(type(monday))"
   ]
  },
  {
   "cell_type": "code",
   "execution_count": 9,
   "id": "f24ee17f-ca51-4d9e-8929-ca022cc4627a",
   "metadata": {},
   "outputs": [
    {
     "name": "stdout",
     "output_type": "stream",
     "text": [
      "<class 'list'>\n",
      "7\n",
      "Average Temperature: 24.085714285714285\n",
      "Average Wind Speed: 4.985714285714286\n"
     ]
    }
   ],
   "source": [
    "# List of dictionaries....\n",
    "weather_data = [monday, tuesday, wednesday, thursday, friday, saturday, sunday]\n",
    "print(type(weather_data))\n",
    "print(len(weather_data))\n",
    "\n",
    "# Extract temperatures and wind speeds using loops....\n",
    "temperatures = []\n",
    "wind_speeds = []\n",
    "\n",
    "for day in weather_data:\n",
    "    temperatures.append(day[\"temperature\"])\n",
    "    wind_speeds.append(day[\"wind_speed\"])\n",
    "\n",
    "# Average temperature and wind speed using loops....\n",
    "average_temperature = sum(temperatures) / len(temperatures)\n",
    "average_wind_speed = sum(wind_speeds) / len(wind_speeds)\n",
    "\n",
    "print(\"Average Temperature:\", average_temperature)\n",
    "print(\"Average Wind Speed:\", average_wind_speed)\n"
   ]
  },
  {
   "cell_type": "code",
   "execution_count": 10,
   "id": "c29d51d9-55d0-4f95-8d3e-6d59a0c45b83",
   "metadata": {},
   "outputs": [
    {
     "name": "stdout",
     "output_type": "stream",
     "text": [
      "Maximum Temperature: 26.1 on Friday\n",
      "Minimum Temperature: 21.8 on Wednesday\n"
     ]
    }
   ],
   "source": [
    "# Find maximum and minimum temperature using loops....\n",
    "def find_max_min_temperature():\n",
    "    max_temperature = temperatures[0]\n",
    "    min_temperature = temperatures[0]\n",
    "    max_day = weather_data[0][\"day\"]\n",
    "    min_day = weather_data[0][\"day\"]\n",
    "    \n",
    "    for day in weather_data:\n",
    "        if day[\"temperature\"] > max_temperature:\n",
    "            max_temperature = day[\"temperature\"]\n",
    "            max_day = day[\"day\"]\n",
    "        if day[\"temperature\"] < min_temperature:\n",
    "            min_temperature = day[\"temperature\"]\n",
    "            min_day = day[\"day\"]\n",
    "    \n",
    "    print(\"Maximum Temperature:\", max_temperature, \"on\", max_day)\n",
    "    print(\"Minimum Temperature:\", min_temperature, \"on\", min_day)\n",
    "\n",
    "find_max_min_temperature()\n"
   ]
  },
  {
   "cell_type": "code",
   "execution_count": 11,
   "id": "45136803-d41f-46f2-831e-cf9215320135",
   "metadata": {},
   "outputs": [
    {
     "name": "stdout",
     "output_type": "stream",
     "text": [
      "Temperatures in Fahrenheit: (74.3, 77.54, 71.24000000000001, 72.86, 78.98, 75.56, 77.0)\n",
      "<class 'tuple'>\n",
      "Unique humidity values: {32, 40, 35, 30}\n",
      "<class 'set'>\n",
      "Data Types - Temperature: <class 'float'> , Humidity: <class 'int'> , Wind Speed: <class 'float'> , Average: <class 'float'>\n",
      "Rounded Average Temperature: 24\n",
      "<class 'list'>\n",
      "[{'day': 'Monday', 'temperature': 23.5, 'humidity': 30, 'wind_speed': 5.2}, {'day': 'Tuesday', 'temperature': 25.3, 'humidity': 35, 'wind_speed': 4.8}, {'day': 'Wednesday', 'temperature': 21.8, 'humidity': 35, 'wind_speed': 6.1}, {'day': 'Thursday', 'temperature': 22.7, 'humidity': 32, 'wind_speed': 3.9}, {'day': 'Friday', 'temperature': 26.1, 'humidity': 40, 'wind_speed': 5.6}, {'day': 'Saturday', 'temperature': 24.2, 'humidity': 40, 'wind_speed': 5.0}, {'day': 'Sunday', 'temperature': 25.0, 'humidity': 30, 'wind_speed': 4.3}]\n",
      "[]\n"
     ]
    }
   ],
   "source": [
    "# Convert temperatures to Fahrenheit using loops and tuple....\n",
    "temps_celsius = tuple(temperatures)\n",
    "temps_fahrenheit = tuple(temp * 9/5 + 32 for temp in temps_celsius)\n",
    "\n",
    "print(\"Temperatures in Fahrenheit:\", temps_fahrenheit)\n",
    "print(type(temps_fahrenheit))\n",
    "\n",
    "# Use a set to find unique humidities....\n",
    "humidities = [day[\"humidity\"] for day in weather_data]\n",
    "unique_humidities = set(humidities)\n",
    "\n",
    "print(\"Unique humidity values:\", unique_humidities)\n",
    "print(type(unique_humidities))\n",
    "\n",
    "# Data type....\n",
    "temperature_types = type(temperatures[0])\n",
    "humidity_types = type(humidities[0])\n",
    "wind_speed_type = type(wind_speeds[0])\n",
    "average_type = type(average_temperature)\n",
    "print(\"Data Types - Temperature:\", temperature_types, \", Humidity:\", humidity_types, \", Wind Speed:\", wind_speed_type, \", Average:\", average_type)\n",
    "\n",
    "# Casting....\n",
    "average_temperature_rounded = int(average_temperature)\n",
    "print(\"Rounded Average Temperature:\", average_temperature_rounded)\n",
    "\n",
    "# Use copy, clear, and del....\n",
    "Days = weather_data.copy()\n",
    "print(type(Days))\n",
    "print(Days)\n",
    "\n",
    "Days.clear()\n",
    "print(Days)\n",
    "\n",
    "del Days"
   ]
  },
  {
   "cell_type": "code",
   "execution_count": 12,
   "id": "f2fbe3af-a2eb-447f-a5d4-2a9ddf5adad0",
   "metadata": {},
   "outputs": [
    {
     "name": "stdout",
     "output_type": "stream",
     "text": [
      "Checking if a specific day has a temperature above, below, or equal to 25°C.\n"
     ]
    },
    {
     "name": "stdin",
     "output_type": "stream",
     "text": [
      "Enter the day to check (Monday to Sunday):  sunday\n"
     ]
    },
    {
     "name": "stdout",
     "output_type": "stream",
     "text": [
      "The temperature on Sunday is 25°C with a wind speed of 4.3 m/s.\n"
     ]
    }
   ],
   "source": [
    "print(\"Checking if a specific day has a temperature above, below, or equal to 25°C.\")\n",
    "day_check = input(\"Enter the day to check (Monday to Sunday): \").capitalize()\n",
    "\n",
    "# Use Dictionary....\n",
    "day_mapping = {\n",
    "    \"Monday\": monday,\n",
    "    \"Tuesday\": tuesday,\n",
    "    \"Wednesday\": wednesday,\n",
    "    \"Thursday\": thursday,\n",
    "    \"Friday\": friday,\n",
    "    \"Saturday\": saturday,\n",
    "    \"Sunday\": sunday\n",
    "}\n",
    "\n",
    "if day_check in day_mapping:\n",
    "    temp_check = day_mapping[day_check][\"temperature\"]\n",
    "    wind_check = day_mapping[day_check][\"wind_speed\"]\n",
    "    if temp_check > 25:\n",
    "        print(f\"The temperature on {day_check} is above 25°C with a wind speed of {wind_check} m/s.\")\n",
    "    elif temp_check < 25:\n",
    "        print(f\"The temperature on {day_check} is below 25°C with a wind speed of {wind_check} m/s.\")\n",
    "    else:\n",
    "        print(f\"The temperature on {day_check} is 25°C with a wind speed of {wind_check} m/s.\")\n",
    "else:\n",
    "    print(f\"{day_check} is not a valid day. Please enter a day from Monday to Sunday.\")"
   ]
  },
  {
   "cell_type": "code",
   "execution_count": null,
   "id": "8508163c-afbe-4017-8eeb-df587db70bdc",
   "metadata": {},
   "outputs": [],
   "source": []
  }
 ],
 "metadata": {
  "kernelspec": {
   "display_name": "Python 3 (ipykernel)",
   "language": "python",
   "name": "python3"
  },
  "language_info": {
   "codemirror_mode": {
    "name": "ipython",
    "version": 3
   },
   "file_extension": ".py",
   "mimetype": "text/x-python",
   "name": "python",
   "nbconvert_exporter": "python",
   "pygments_lexer": "ipython3",
   "version": "3.12.2"
  }
 },
 "nbformat": 4,
 "nbformat_minor": 5
}
