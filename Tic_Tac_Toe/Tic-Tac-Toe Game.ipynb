{
 "cells": [
  {
   "cell_type": "markdown",
   "id": "37e5a297-ef67-4d0b-8066-704d700dc6d5",
   "metadata": {},
   "source": [
    "## Tic-Tac-Toe game:"
   ]
  },
  {
   "cell_type": "code",
   "execution_count": 20,
   "id": "19b4f702-9469-4ce8-aa1c-37f5b571650c",
   "metadata": {},
   "outputs": [
    {
     "name": "stdout",
     "output_type": "stream",
     "text": [
      "1 | 2 | 3\n",
      "----------\n",
      "4 | 5 | 6\n",
      "----------\n",
      "7 | 8 | 9\n",
      "----------\n"
     ]
    },
    {
     "name": "stdin",
     "output_type": "stream",
     "text": [
      "Player X, input your move (1-9):  2\n"
     ]
    },
    {
     "name": "stdout",
     "output_type": "stream",
     "text": [
      "- | X | -\n",
      "----------\n",
      "- | - | -\n",
      "----------\n",
      "- | - | -\n",
      "----------\n"
     ]
    },
    {
     "name": "stdin",
     "output_type": "stream",
     "text": [
      "Player O, input your move (1-9):  1\n"
     ]
    },
    {
     "name": "stdout",
     "output_type": "stream",
     "text": [
      "O | X | -\n",
      "----------\n",
      "- | - | -\n",
      "----------\n",
      "- | - | -\n",
      "----------\n"
     ]
    },
    {
     "name": "stdin",
     "output_type": "stream",
     "text": [
      "Player X, input your move (1-9):  3\n"
     ]
    },
    {
     "name": "stdout",
     "output_type": "stream",
     "text": [
      "O | X | X\n",
      "----------\n",
      "- | - | -\n",
      "----------\n",
      "- | - | -\n",
      "----------\n"
     ]
    },
    {
     "name": "stdin",
     "output_type": "stream",
     "text": [
      "Player O, input your move (1-9):  4\n"
     ]
    },
    {
     "name": "stdout",
     "output_type": "stream",
     "text": [
      "O | X | X\n",
      "----------\n",
      "O | - | -\n",
      "----------\n",
      "- | - | -\n",
      "----------\n"
     ]
    },
    {
     "name": "stdin",
     "output_type": "stream",
     "text": [
      "Player X, input your move (1-9):  5\n"
     ]
    },
    {
     "name": "stdout",
     "output_type": "stream",
     "text": [
      "O | X | X\n",
      "----------\n",
      "O | X | -\n",
      "----------\n",
      "- | - | -\n",
      "----------\n"
     ]
    },
    {
     "name": "stdin",
     "output_type": "stream",
     "text": [
      "Player O, input your move (1-9):  7\n"
     ]
    },
    {
     "name": "stdout",
     "output_type": "stream",
     "text": [
      "O | X | X\n",
      "----------\n",
      "O | X | -\n",
      "----------\n",
      "O | - | -\n",
      "----------\n",
      "Player O wins!\n"
     ]
    }
   ],
   "source": [
    "class Board:\n",
    "    def __init__(self):\n",
    "        # Make list [['1', '2', '3'], ['4', '5', '6'], ['7', '8', '9']]\n",
    "        self.board = [[str(i * 3 + j + 1) for j in range(3)] for i in range(3)]\n",
    "        self.first_move_done = False\n",
    "    \n",
    "    def print_board(self):\n",
    "        # For Print Below shape:\n",
    "        #  1 | 2 | 3\n",
    "        #  ----------\n",
    "        #  4 | 5 | 6\n",
    "        #  ----------\n",
    "        #  7 | 8 | 9\n",
    "        #  ----------\n",
    "        for row in self.board:\n",
    "            display_row = [cell if cell in ['X', 'O'] else ('-' if self.first_move_done else cell) for cell in row]\n",
    "            print(\" | \".join(display_row))\n",
    "            print(\"--\" * 5)\n",
    "    \n",
    "    def update_board(self, index, player):\n",
    "        row, col = divmod(index, 3)\n",
    "        if self.board[row][col] not in ['X', 'O']:\n",
    "            self.board[row][col] = player\n",
    "            self.first_move_done = True\n",
    "            return True\n",
    "        return False\n",
    "    \n",
    "    def check_winner(self, player):\n",
    "        for row in self.board:\n",
    "            if row.count(player) == 3:\n",
    "                return True\n",
    "        for col in range(3):\n",
    "            if self.board[0][col] == player and self.board[1][col] == player and self.board[2][col] == player:\n",
    "                return True\n",
    "        if self.board[0][0] == player and self.board[1][1] == player and self.board[2][2] == player:\n",
    "            return True\n",
    "        if self.board[0][2] == player and self.board[1][1] == player and self.board[2][0] == player:\n",
    "            return True\n",
    "        return False\n",
    "    \n",
    "    def check_draw(self):\n",
    "        for row in self.board:\n",
    "            for cell in row:\n",
    "                if cell not in ['X', 'O']:\n",
    "                    return False\n",
    "        return True\n",
    "\n",
    "class Player:\n",
    "    def __init__(self, symbol):\n",
    "        self.symbol = symbol\n",
    "\n",
    "class Game:\n",
    "    def __init__(self):\n",
    "        self.board = Board()\n",
    "        self.current_player = Player('X')\n",
    "    \n",
    "    def switch_player(self):\n",
    "        self.current_player.symbol = 'O' if self.current_player.symbol == 'X' else 'X'\n",
    "    \n",
    "    def play(self):\n",
    "        while True:\n",
    "            self.board.print_board()\n",
    "            move = int(input(f\"Player {self.current_player.symbol}, input your move (1-9): \")) - 1\n",
    "            if 0 <= move < 9 and self.board.update_board(move, self.current_player.symbol):\n",
    "                if self.board.check_winner(self.current_player.symbol):\n",
    "                    self.board.print_board()\n",
    "                    print(f\"Player {self.current_player.symbol} wins!\")\n",
    "                    break\n",
    "                if self.board.check_draw():\n",
    "                    self.board.print_board()\n",
    "                    print(\"The game is a draw!\")\n",
    "                    break\n",
    "                self.switch_player()\n",
    "            else:\n",
    "                print(\"That cell is already taken or invalid. Try again.\")\n",
    "\n",
    "if __name__ == \"__main__\":\n",
    "    game = Game()\n",
    "    game.play()\n"
   ]
  },
  {
   "cell_type": "code",
   "execution_count": null,
   "id": "6881b761-3c58-4267-9c86-a65ddf8f493d",
   "metadata": {},
   "outputs": [],
   "source": []
  }
 ],
 "metadata": {
  "kernelspec": {
   "display_name": "Python 3 (ipykernel)",
   "language": "python",
   "name": "python3"
  },
  "language_info": {
   "codemirror_mode": {
    "name": "ipython",
    "version": 3
   },
   "file_extension": ".py",
   "mimetype": "text/x-python",
   "name": "python",
   "nbconvert_exporter": "python",
   "pygments_lexer": "ipython3",
   "version": "3.12.2"
  }
 },
 "nbformat": 4,
 "nbformat_minor": 5
}
