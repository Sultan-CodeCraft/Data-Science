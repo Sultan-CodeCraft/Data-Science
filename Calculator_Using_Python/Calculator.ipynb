{
 "cells": [
  {
   "cell_type": "markdown",
   "id": "ef3ff238-ed95-468d-9ffd-f613a3a62fdd",
   "metadata": {},
   "source": [
    "## Calculator:"
   ]
  },
  {
   "cell_type": "code",
   "execution_count": 1,
   "id": "53bab001-80a8-4f52-87a1-db6a4d7bc0a0",
   "metadata": {},
   "outputs": [
    {
     "name": "stdout",
     "output_type": "stream",
     "text": [
      "Hello! Welcome to My Calculator...\n",
      "Select the Options: \n",
      "1. Addition +\n",
      "2. Subtraction -\n",
      "3. Multiplication *\n",
      "4. Division /\n",
      "5. Modulo %\n",
      "6. power ^\n"
     ]
    },
    {
     "name": "stdin",
     "output_type": "stream",
     "text": [
      "Enter choice (1/2/3/4/5/6):  3\n",
      "Enter first number:  3\n",
      "Enter second number:  0\n"
     ]
    },
    {
     "name": "stdout",
     "output_type": "stream",
     "text": [
      "Result: 0\n"
     ]
    }
   ],
   "source": [
    "print(\"Hello! Welcome to My Calculator...\")\n",
    "print(\"Select the Options: \")\n",
    "print(\"1. Addition +\")\n",
    "print(\"2. Subtraction -\")\n",
    "print(\"3. Multiplication *\")\n",
    "print(\"4. Division /\")\n",
    "print(\"5. Modulo %\")\n",
    "print(\"6. power ^\")\n",
    "\n",
    "choice = int(input(\"Enter choice (1/2/3/4/5/6): \"))\n",
    "\n",
    "if choice in (1, 2, 3, 4, 5,6):\n",
    "    a = int(input(\"Enter first number: \"))\n",
    "    b = int(input(\"Enter second number: \"))\n",
    "    \n",
    "    if choice == 1:\n",
    "        sum = a+b\n",
    "        print(\"Result:\", sum)\n",
    "    elif choice == 2:\n",
    "        sub = a-b\n",
    "        print(\"Result:\", sub)\n",
    "    elif choice == 3:\n",
    "        mul = a*b\n",
    "        print(\"Result:\", mul)\n",
    "    elif choice == 4: \n",
    "        if b==0:\n",
    "            print(\"Error!\")\n",
    "        else:    \n",
    "            div = a/b\n",
    "            print(\"Result:\", div)\n",
    "    elif choice == 5:\n",
    "        if b==0:\n",
    "            print(\"Error!\")\n",
    "        else: \n",
    "           mod = a%b\n",
    "           print(\"Result:\", mod) \n",
    "    elif choice == 6:\n",
    "        power = a**b\n",
    "        print(\"Result:\",power)\n",
    "else:\n",
    "    print(\"Invalid input\")\n",
    "        \n",
    "        "
   ]
  },
  {
   "cell_type": "code",
   "execution_count": null,
   "id": "d070fcbf-973d-48d1-8d5e-aec0c7c1fd33",
   "metadata": {},
   "outputs": [],
   "source": []
  }
 ],
 "metadata": {
  "kernelspec": {
   "display_name": "Python 3 (ipykernel)",
   "language": "python",
   "name": "python3"
  },
  "language_info": {
   "codemirror_mode": {
    "name": "ipython",
    "version": 3
   },
   "file_extension": ".py",
   "mimetype": "text/x-python",
   "name": "python",
   "nbconvert_exporter": "python",
   "pygments_lexer": "ipython3",
   "version": "3.12.2"
  }
 },
 "nbformat": 4,
 "nbformat_minor": 5
}
