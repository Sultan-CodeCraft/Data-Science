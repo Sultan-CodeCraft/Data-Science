{
 "cells": [
  {
   "cell_type": "code",
   "execution_count": 1,
   "id": "91053fea-b52b-4783-818e-9d6b39affaa6",
   "metadata": {},
   "outputs": [
    {
     "name": "stdout",
     "output_type": "stream",
     "text": [
      "Hello! Welcome to My Calculator...\n",
      "Select the Options: \n",
      "1. Addition +\n",
      "2. Subtraction -\n",
      "3. Multiplication *\n",
      "4. Division /\n",
      "5. Modulo %\n",
      "6. Exit\n"
     ]
    },
    {
     "name": "stdin",
     "output_type": "stream",
     "text": [
      "Enter choice (1/2/3/4/5/6):  5\n",
      "Enter first number:  7\n",
      "Enter second number:  9\n"
     ]
    },
    {
     "name": "stdout",
     "output_type": "stream",
     "text": [
      "Result: 7\n",
      "Select the Options: \n",
      "1. Addition +\n",
      "2. Subtraction -\n",
      "3. Multiplication *\n",
      "4. Division /\n",
      "5. Modulo %\n",
      "6. Exit\n"
     ]
    },
    {
     "name": "stdin",
     "output_type": "stream",
     "text": [
      "Enter choice (1/2/3/4/5/6):  6\n"
     ]
    },
    {
     "name": "stdout",
     "output_type": "stream",
     "text": [
      "Exiting...\n"
     ]
    }
   ],
   "source": [
    "def add(x, y):\n",
    "    return x + y\n",
    "\n",
    "def subtract(x, y):\n",
    "    return x - y\n",
    "\n",
    "def multiply(x, y):\n",
    "    return x * y\n",
    "\n",
    "def divide(x, y):\n",
    "    if y == 0:\n",
    "        return \"Error! \"\n",
    "    else:\n",
    "        return x / y\n",
    "\n",
    "def modulo(x, y):\n",
    "    if y == 0:\n",
    "        return \"Error! \"\n",
    "    else:\n",
    "        return x % y\n",
    "\n",
    "def calculator():\n",
    "    while True:\n",
    "        print(\"Select the Options: \")\n",
    "        print(\"1. Addition +\")\n",
    "        print(\"2. Subtraction -\")\n",
    "        print(\"3. Multiplication *\")\n",
    "        print(\"4. Division /\")\n",
    "        print(\"5. Modulo %\")\n",
    "        print(\"6. Exit\")\n",
    "        \n",
    "        choice = int(input(\"Enter choice (1/2/3/4/5/6): \"))\n",
    "\n",
    "        if choice in (1, 2, 3, 4, 5):\n",
    "            a = int(input(\"Enter first number: \"))\n",
    "            b = int(input(\"Enter second number: \"))\n",
    "\n",
    "            if choice == 1:\n",
    "                print(\"Result:\", add(a,b))\n",
    "            elif choice == 2:\n",
    "                print(\"Result:\", subtract(a,b))\n",
    "            elif choice == 3:\n",
    "                print(\"Result:\", multiply(a,b))\n",
    "            elif choice == 4:\n",
    "                print(\"Result:\", divide(a,b))\n",
    "            elif choice == 5:\n",
    "                print(\"Result:\", modulo(a,b))\n",
    "        elif choice == 6:\n",
    "            print(\"Exiting...\")\n",
    "            break\n",
    "        else:\n",
    "            print(\"Invalid input\")\n",
    "print(\"Hello! Welcome to My Calculator...\")\n",
    "calculator()\n"
   ]
  },
  {
   "cell_type": "code",
   "execution_count": null,
   "id": "9251daeb-e348-4ec9-bbd7-94f404f60ce3",
   "metadata": {},
   "outputs": [],
   "source": []
  }
 ],
 "metadata": {
  "kernelspec": {
   "display_name": "Python 3 (ipykernel)",
   "language": "python",
   "name": "python3"
  },
  "language_info": {
   "codemirror_mode": {
    "name": "ipython",
    "version": 3
   },
   "file_extension": ".py",
   "mimetype": "text/x-python",
   "name": "python",
   "nbconvert_exporter": "python",
   "pygments_lexer": "ipython3",
   "version": "3.12.2"
  }
 },
 "nbformat": 4,
 "nbformat_minor": 5
}
