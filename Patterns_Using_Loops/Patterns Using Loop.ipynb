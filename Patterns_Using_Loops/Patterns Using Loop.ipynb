{
 "cells": [
  {
   "cell_type": "markdown",
   "id": "a54155e1-76b1-46c3-94ea-cf2065c699c5",
   "metadata": {},
   "source": [
    "## Patterns Using Loops:"
   ]
  },
  {
   "cell_type": "code",
   "execution_count": null,
   "id": "699f718a-638c-4929-9f5c-c104393156b2",
   "metadata": {},
   "outputs": [],
   "source": [
    "# *****\n",
    "# *****\n",
    "# *****\n",
    "# *****"
   ]
  },
  {
   "cell_type": "code",
   "execution_count": 12,
   "id": "9776d88f-07b3-49c5-9015-07c4146962b4",
   "metadata": {},
   "outputs": [
    {
     "name": "stdout",
     "output_type": "stream",
     "text": [
      "*****\n",
      "*****\n",
      "*****\n",
      "*****\n"
     ]
    }
   ],
   "source": [
    "# for loop\n",
    "for a in range(4):\n",
    "    for b in range(5):\n",
    "        print('*',end=\"\")\n",
    "    print()  "
   ]
  },
  {
   "cell_type": "code",
   "execution_count": 15,
   "id": "d5a57ee4-7196-4cea-abdb-d1132710a761",
   "metadata": {},
   "outputs": [
    {
     "name": "stdout",
     "output_type": "stream",
     "text": [
      "*****\n",
      "*****\n",
      "*****\n",
      "*****\n"
     ]
    }
   ],
   "source": [
    "# while loop\n",
    "i = 1\n",
    "while i < 5:\n",
    "    j=1\n",
    "    while j <6:\n",
    "        print(\"*\",end=\"\")\n",
    "        j +=1\n",
    "    print()\n",
    "    i += 1\n"
   ]
  },
  {
   "cell_type": "code",
   "execution_count": 2,
   "id": "3241a105-025d-45cc-af33-7b204e6a2e92",
   "metadata": {},
   "outputs": [],
   "source": [
    "# *\n",
    "# **\n",
    "# ***\n",
    "# ****\n",
    "# *****"
   ]
  },
  {
   "cell_type": "code",
   "execution_count": 18,
   "id": "b641aae4-584d-4d4a-9b6c-80f2fa885dc7",
   "metadata": {},
   "outputs": [
    {
     "name": "stdout",
     "output_type": "stream",
     "text": [
      "*\n",
      "**\n",
      "***\n",
      "****\n",
      "*****\n"
     ]
    }
   ],
   "source": [
    "# for loop\n",
    "x = 5\n",
    "for i in range(1, x + 1):\n",
    "    print(\"*\" * i)"
   ]
  },
  {
   "cell_type": "code",
   "execution_count": 19,
   "id": "4196c1cd-48ac-443a-9324-673b2f91199d",
   "metadata": {},
   "outputs": [
    {
     "name": "stdout",
     "output_type": "stream",
     "text": [
      "*\n",
      "**\n",
      "***\n",
      "****\n",
      "*****\n"
     ]
    }
   ],
   "source": [
    "# while loop\n",
    "x = 5\n",
    "i = 1\n",
    "while i < x + 1:\n",
    "    print(\"*\" * i)\n",
    "    i = i + 1    "
   ]
  },
  {
   "cell_type": "code",
   "execution_count": 3,
   "id": "b313c3b4-392a-4ef6-a974-ec325a890b92",
   "metadata": {},
   "outputs": [],
   "source": [
    "# *****\n",
    "# ****\n",
    "# ***\n",
    "# **\n",
    "# *"
   ]
  },
  {
   "cell_type": "code",
   "execution_count": 20,
   "id": "92707696-2518-4ad5-ad6f-18c2d963b98c",
   "metadata": {},
   "outputs": [
    {
     "name": "stdout",
     "output_type": "stream",
     "text": [
      "*****\n",
      "****\n",
      "***\n",
      "**\n",
      "*\n"
     ]
    }
   ],
   "source": [
    "# for loop\n",
    "x = 5\n",
    "for i in range(x, 0, -1):\n",
    "    print(\"*\" * i)"
   ]
  },
  {
   "cell_type": "code",
   "execution_count": 21,
   "id": "84882db8-3c3b-463b-8627-5f814ed74e6f",
   "metadata": {},
   "outputs": [
    {
     "name": "stdout",
     "output_type": "stream",
     "text": [
      "*****\n",
      "****\n",
      "***\n",
      "**\n",
      "*\n"
     ]
    }
   ],
   "source": [
    "# while loop \n",
    "i = 5\n",
    "while i > 0:\n",
    "    print(\"*\" * i)\n",
    "    i = i - 1    "
   ]
  },
  {
   "cell_type": "code",
   "execution_count": 4,
   "id": "dbd9895a-badf-46e7-8a80-68f70e83de84",
   "metadata": {},
   "outputs": [],
   "source": [
    "# 1\n",
    "# 12\n",
    "# 123\n",
    "# 1234\n",
    "# 12345"
   ]
  },
  {
   "cell_type": "code",
   "execution_count": 22,
   "id": "5dec1cbd-c96f-4d7d-805e-39b338f17bcb",
   "metadata": {},
   "outputs": [
    {
     "name": "stdout",
     "output_type": "stream",
     "text": [
      "1\n",
      "12\n",
      "123\n",
      "1234\n",
      "12345\n"
     ]
    }
   ],
   "source": [
    "# for loop\n",
    "x = 5\n",
    "for i in range(1, x + 1):\n",
    "    for j in range(1, i + 1):\n",
    "        print(j, end=\"\")\n",
    "    print()"
   ]
  },
  {
   "cell_type": "code",
   "execution_count": 23,
   "id": "acec1380-cd70-4235-9788-ce65109e4f9e",
   "metadata": {},
   "outputs": [
    {
     "name": "stdout",
     "output_type": "stream",
     "text": [
      "1\n",
      "12\n",
      "123\n",
      "1234\n",
      "12345\n"
     ]
    }
   ],
   "source": [
    "# while loop\n",
    "x = 5\n",
    "i = 1\n",
    "while i < x + 1:\n",
    "    j=1\n",
    "    while j < i + 1:\n",
    "        print(j, end=\"\")\n",
    "        j = j + 1\n",
    "    print()\n",
    "    i = i + 1   "
   ]
  },
  {
   "cell_type": "code",
   "execution_count": 5,
   "id": "9d9c5fea-f966-43b0-bed4-fc4b66c21186",
   "metadata": {},
   "outputs": [],
   "source": [
    "# 12345\n",
    "# 1234\n",
    "# 123\n",
    "# 12\n",
    "# 1"
   ]
  },
  {
   "cell_type": "code",
   "execution_count": 24,
   "id": "3fa6c451-587a-481c-8bf7-6ed51e4b378a",
   "metadata": {},
   "outputs": [
    {
     "name": "stdout",
     "output_type": "stream",
     "text": [
      "12345\n",
      "1234\n",
      "123\n",
      "12\n",
      "1\n"
     ]
    }
   ],
   "source": [
    "# for loop\n",
    "x = 5\n",
    "for i in range(x, 0 , -1):\n",
    "    for j in range( 1,i+1):\n",
    "        print(j, end=\"\")\n",
    "    print()"
   ]
  },
  {
   "cell_type": "code",
   "execution_count": 25,
   "id": "e1370840-6cab-4377-81b1-545622c6f2cf",
   "metadata": {},
   "outputs": [
    {
     "name": "stdout",
     "output_type": "stream",
     "text": [
      "12345\n",
      "1234\n",
      "123\n",
      "12\n",
      "1\n"
     ]
    }
   ],
   "source": [
    "# while loop\n",
    "i = 5\n",
    "while i > 0:\n",
    "    j=1\n",
    "    while j < i + 1 :\n",
    "        print(j, end=\"\")\n",
    "        j = j + 1\n",
    "    print()\n",
    "    i = i - 1   "
   ]
  },
  {
   "cell_type": "code",
   "execution_count": 6,
   "id": "2151e933-4bf2-4cc4-b07b-8c967ed0c3ca",
   "metadata": {},
   "outputs": [],
   "source": [
    "#     *\n",
    "#    **\n",
    "#   ***\n",
    "#  ****\n",
    "# *****"
   ]
  },
  {
   "cell_type": "code",
   "execution_count": 26,
   "id": "632ab769-dc69-4ff3-a49a-215f9d4c593f",
   "metadata": {},
   "outputs": [
    {
     "name": "stdout",
     "output_type": "stream",
     "text": [
      "     *\n",
      "    **\n",
      "   ***\n",
      "  ****\n",
      " *****\n"
     ]
    }
   ],
   "source": [
    "# for loop\n",
    "x=5\n",
    "for i in range(1, x + 1):\n",
    "    print(\" \" * (x-i) , \"*\" * i)"
   ]
  },
  {
   "cell_type": "code",
   "execution_count": 27,
   "id": "f4a0d4cf-193d-4f1e-b3ae-d97b2594bbda",
   "metadata": {},
   "outputs": [
    {
     "name": "stdout",
     "output_type": "stream",
     "text": [
      "     *\n",
      "    **\n",
      "   ***\n",
      "  ****\n",
      " *****\n"
     ]
    }
   ],
   "source": [
    "# while loop\n",
    "x = 5\n",
    "i = 1\n",
    "while i < x + 1:\n",
    "    print(\" \" * (x-i),\"*\" * i)\n",
    "    i = i + 1    "
   ]
  },
  {
   "cell_type": "code",
   "execution_count": 7,
   "id": "ea075b80-06b3-4b1e-9a47-3fa45f010820",
   "metadata": {},
   "outputs": [],
   "source": [
    "#     **\n",
    "#    ****\n",
    "#   ******\n",
    "#  ********\n",
    "# **********"
   ]
  },
  {
   "cell_type": "code",
   "execution_count": 28,
   "id": "d6b7d631-7b6d-49b2-9f6c-ef0f92ccc9f4",
   "metadata": {},
   "outputs": [
    {
     "name": "stdout",
     "output_type": "stream",
     "text": [
      "     **\n",
      "    ****\n",
      "   ******\n",
      "  ********\n",
      " **********\n"
     ]
    }
   ],
   "source": [
    "# for loop\n",
    "x=5\n",
    "for i in range(1, x + 1):\n",
    "    print(\" \" * (x-i) ,\"*\"*i*2)"
   ]
  },
  {
   "cell_type": "code",
   "execution_count": 29,
   "id": "ca18724d-29a7-455d-b6e2-a01318753f88",
   "metadata": {},
   "outputs": [
    {
     "name": "stdout",
     "output_type": "stream",
     "text": [
      "     **\n",
      "    ****\n",
      "   ******\n",
      "  ********\n",
      " **********\n"
     ]
    }
   ],
   "source": [
    "# while loop\n",
    "x = 5\n",
    "i = 1\n",
    "while i < x + 1:\n",
    "    print(\" \" * (x-i),\"*\" * i * 2)\n",
    "    i = i + 1    "
   ]
  },
  {
   "cell_type": "code",
   "execution_count": 8,
   "id": "7b2ac7a5-42c5-4ad4-8f78-8e44b535bc3a",
   "metadata": {},
   "outputs": [],
   "source": [
    "#     *\n",
    "#    ***\n",
    "#   *****\n",
    "#  *******\n",
    "# *********"
   ]
  },
  {
   "cell_type": "code",
   "execution_count": 42,
   "id": "f0475502-f46a-40a4-9c07-15820c95dbb4",
   "metadata": {},
   "outputs": [
    {
     "name": "stdout",
     "output_type": "stream",
     "text": [
      "    *\n",
      "   ***\n",
      "  *****\n",
      " *******\n",
      "*********\n"
     ]
    }
   ],
   "source": [
    "# for loop\n",
    "x = 5\n",
    "for i in range(x):\n",
    "    for j in range(x - i - 1):\n",
    "        print(' ', end='')\n",
    "    for k in range(2 * i + 1):\n",
    "        print('*', end='')\n",
    "    print()"
   ]
  },
  {
   "cell_type": "code",
   "execution_count": 43,
   "id": "47001c3e-80b4-4014-b96b-a8afdffd5360",
   "metadata": {},
   "outputs": [
    {
     "name": "stdout",
     "output_type": "stream",
     "text": [
      "    *\n",
      "   ***\n",
      "  *****\n",
      " *******\n",
      "*********\n"
     ]
    }
   ],
   "source": [
    "# while loop\n",
    "x = 5\n",
    "i = 0\n",
    "while i < 5:\n",
    "    j = 0\n",
    "    while j < (x - i - 1):\n",
    "        print(' ', end='')\n",
    "        j += 1\n",
    "    k = 0\n",
    "    while k < (2 * i + 1):\n",
    "        print('*', end='')\n",
    "        k += 1\n",
    "    print()\n",
    "    i += 1"
   ]
  },
  {
   "cell_type": "code",
   "execution_count": 9,
   "id": "0469e954-14f9-4c25-86fc-f8cadf111a7c",
   "metadata": {},
   "outputs": [],
   "source": [
    "#     *\n",
    "#    ***\n",
    "#   *****\n",
    "#  *******\n",
    "# *********\n",
    "#  *******\n",
    "#   *****\n",
    "#    ***\n",
    "#     *"
   ]
  },
  {
   "cell_type": "code",
   "execution_count": 44,
   "id": "8a51ea78-719f-4e50-b866-2ee3d9cc94f5",
   "metadata": {},
   "outputs": [
    {
     "name": "stdout",
     "output_type": "stream",
     "text": [
      "    *\n",
      "   ***\n",
      "  *****\n",
      " *******\n",
      "*********\n",
      " *******\n",
      "  *****\n",
      "   ***\n",
      "    *\n"
     ]
    }
   ],
   "source": [
    "# for loop\n",
    "x = 5\n",
    "for i in range(x):\n",
    "    for j in range(x - i - 1):\n",
    "        print(' ', end='')\n",
    "    for k in range(2 * i + 1):\n",
    "        print('*', end='')\n",
    "    print()\n",
    "for i in range(x - 2, -1, -1):\n",
    "    for j in range(x - i - 1):\n",
    "        print(' ', end='')\n",
    "    for k in range(2 * i + 1):\n",
    "        print('*', end='')\n",
    "    print()"
   ]
  },
  {
   "cell_type": "code",
   "execution_count": 45,
   "id": "c954f4c9-cdcb-40ff-8d4d-b03bf40298dd",
   "metadata": {},
   "outputs": [
    {
     "name": "stdout",
     "output_type": "stream",
     "text": [
      "    *\n",
      "   ***\n",
      "  *****\n",
      " *******\n",
      "*********\n",
      " *******\n",
      "  *****\n",
      "   ***\n",
      "    *\n"
     ]
    }
   ],
   "source": [
    "# while loop\n",
    "x = 5\n",
    "i = 0\n",
    "while i < x:\n",
    "    j = 0\n",
    "    while j < x - i - 1:\n",
    "        print(' ', end='')\n",
    "        j += 1\n",
    "    k = 0\n",
    "    while k < 2 * i + 1:\n",
    "        print('*', end='')\n",
    "        k += 1\n",
    "    print()\n",
    "    i += 1\n",
    "i = x - 2\n",
    "while i >= 0:\n",
    "    j = 0\n",
    "    while j < x - i - 1:\n",
    "        print(' ', end='')\n",
    "        j += 1\n",
    "    k = 0\n",
    "    while k < 2 * i + 1:\n",
    "        print('*', end='')\n",
    "        k += 1\n",
    "    print()\n",
    "    i -= 1"
   ]
  }
 ],
 "metadata": {
  "kernelspec": {
   "display_name": "Python 3 (ipykernel)",
   "language": "python",
   "name": "python3"
  },
  "language_info": {
   "codemirror_mode": {
    "name": "ipython",
    "version": 3
   },
   "file_extension": ".py",
   "mimetype": "text/x-python",
   "name": "python",
   "nbconvert_exporter": "python",
   "pygments_lexer": "ipython3",
   "version": "3.12.2"
  }
 },
 "nbformat": 4,
 "nbformat_minor": 5
}
